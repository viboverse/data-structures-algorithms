{
 "cells": [
  {
   "cell_type": "markdown",
   "id": "cb007b11",
   "metadata": {},
   "source": [
    "# Assignment 1\n",
    "\n",
    "These assignments are related to **different algorithms**.\n",
    "In these assignments, you will program new code in the TODO place, but the pre-given code is used in the assignments.\n",
    "* Read the related course material before doing the assignments from the [01_algorithms](https://dsa-material-6bd212.pages.labranet.jamk.fi/materials/01_algorithms/).\n",
    "\n",
    "General notes of assignments:\n",
    "* NOTE! In general, after the implementation of the function, all assignments have a test program for the function.\n",
    "* NOTE! Add your code in the assignments only after the TODO lines."
   ]
  },
  {
   "cell_type": "markdown",
   "id": "a641e045",
   "metadata": {},
   "source": [
    "## Assignment 1.1 (1p)\n",
    "\n",
    "In the assignment, the function is already implemented, so the implementation does not need to be changed.\n",
    "Implementation of the algorithm is presented below in the `numbers()` function.\n",
    "\n",
    "Based on that, please answer the following questions.\n",
    "\n",
    " * What is the output of the algorithm when it is called with an input value of `13`?\n",
    "  \n",
    "         \n",
    "\n",
    " * Explain how the algorithm works.\n",
    "\n",
    "  \n",
    "  \n"
   ]
  },
  {
   "cell_type": "code",
   "execution_count": 10,
   "id": "3410ad02",
   "metadata": {
    "ExecuteTime": {
     "end_time": "2025-08-12T09:36:31.586256Z",
     "start_time": "2025-08-12T09:36:31.557846Z"
    },
    "execution": {
     "iopub.execute_input": "2024-12-10T09:58:32.556222Z",
     "iopub.status.busy": "2024-12-10T09:58:32.555224Z",
     "iopub.status.idle": "2024-12-10T09:58:32.569040Z",
     "shell.execute_reply": "2024-12-10T09:58:32.567850Z"
    }
   },
   "outputs": [
    {
     "name": "stdout",
     "output_type": "stream",
     "text": [
      "[1, 2, 4, 8, 16, 32, 64, 128, 256, 512, 1024, 2048, 4096]\n"
     ]
    }
   ],
   "source": [
    "\n",
    "def numbers(b):\n",
    "    k = 0\n",
    "    sequence = [1]\n",
    "    response = []\n",
    "    while k <= b:\n",
    "        k = k + 1\n",
    "        sequence.append(sequence[k - 1] + sequence[k - 1])\n",
    "    for ind in range(b):\n",
    "        response.append(sequence[ind])\n",
    "    return response\n",
    "\n",
    "\n",
    "# Test\n",
    "input_01_01 = 13\n",
    "# TODO: Set the correct input value\n",
    "\n",
    "response_01_01 = numbers(input_01_01)\n",
    "print(response_01_01)"
   ]
  },
  {
   "cell_type": "markdown",
   "id": "67da4cb4",
   "metadata": {
    "lines_to_next_cell": 0
   },
   "source": [
    "### Your Response to assignment 1.1:\n",
    "\n",
    "* <font color='red'>What is the output of the algorithm when it is called with an input value of `13`?</font>\n",
    "  \n",
    "* <font color='red'>[1, 2, 4, 8, 16, 32, 64, 128, 256, 512, 1024, 2048, 4096]</font>\n",
    "  \n",
    "* <font color='red'>Explain how the algorithm works.</font>\n",
    "* <font color='red'>  This function builds a sequence of powers of 2 that starts with 1. On each iteration, it doubles the previous value. With the value of 13, this fucntion iterates 14 times because the iteration keep going until the k is equal and less than the b, but in the final step it usese range(b) which is range(13) here so, basically in return the first 13 element of the list. Also, the algorithm runs in linear time.</font>"
   ]
  },
  {
   "cell_type": "markdown",
   "id": "fe430fae",
   "metadata": {},
   "source": [
    "\n",
    "## Assignment 1.2 (1 p)\n",
    "\n",
    "In the assignment, the function is already implemented and\n",
    "function `calculate_numbers()` contains the implementation of an algorithm.\n",
    "\n",
    "Based on that, please answer the following questions.\n",
    "\n",
    "* What is the output when the `calculate_numbers()` function is called with the following arguments: `0`, `3` and `5` and `-1`?\n",
    "* Print each result received on a same line and use only six decimal in results."
   ]
  },
  {
   "cell_type": "code",
   "execution_count": 26,
   "id": "d2e06e31",
   "metadata": {
    "ExecuteTime": {
     "end_time": "2025-08-12T09:36:31.666177Z",
     "start_time": "2025-08-12T09:36:31.611518Z"
    },
    "execution": {
     "iopub.execute_input": "2024-12-10T09:58:32.574025Z",
     "iopub.status.busy": "2024-12-10T09:58:32.574025Z",
     "iopub.status.idle": "2024-12-10T09:58:32.591715Z",
     "shell.execute_reply": "2024-12-10T09:58:32.590725Z"
    },
    "lines_to_next_cell": 0
   },
   "outputs": [
    {
     "name": "stdout",
     "output_type": "stream",
     "text": [
      "The results are: -5.000000, 0.333333, 0.714286, 1.400000\n"
     ]
    }
   ],
   "source": [
    "import unittest\n",
    "\n",
    "\n",
    "def generate_numbers(n):\n",
    "    if n == 0 or n == 1:\n",
    "        return 1\n",
    "    else:\n",
    "        result = (n - 2) + (n - 1)\n",
    "        return result\n",
    "\n",
    "\n",
    "def calculate_numbers(numb):\n",
    "    numb = generate_numbers(numb - 1) / generate_numbers(numb)\n",
    "    return numb\n",
    "\n",
    "\n",
    "# Test\n",
    "# response_01_02_a, response_01_02_b, response_01_02_c, response_01_02_d = 0, 3, 5, -1\n",
    "response_01_02_a = f\"{calculate_numbers(0):.6f}\"\n",
    "response_01_02_b = f\"{calculate_numbers(3):.6f}\"\n",
    "response_01_02_c = f\"{calculate_numbers(5):.6f}\"\n",
    "response_01_02_d = f\"{calculate_numbers(-1):.6f}\"\n",
    "# TODO: What is the output when the algorithm (`calculate_numbers`) is called with the following numbers: 0, 3, 5 and -1?\n",
    "# TODO: Use only six decimal in results.\n",
    "\n",
    "try:\n",
    "    unittest.TestCase().assertIsNotNone(response_01_02_a)\n",
    "    unittest.TestCase().assertIsNotNone(response_01_02_b)\n",
    "    unittest.TestCase().assertIsNotNone(response_01_02_c)\n",
    "    unittest.TestCase().assertIsNotNone(response_01_02_d)\n",
    "    print(f\"The results are: {response_01_02_a}, {response_01_02_b}, {response_01_02_c}, {response_01_02_d}\")\n",
    "except AssertionError as err_msg:\n",
    "    print(err_msg)"
   ]
  },
  {
   "cell_type": "markdown",
   "id": "c6471f15",
   "metadata": {},
   "source": [
    "## Assignment 1.3 (1 p)\n",
    "\n",
    "In the assignment, the function is already implemented and\n",
    "`recursive_func()` contains the implementation of an algorithm.\n",
    "\n",
    "You are given a recursive function `recursive_func(n)` as well as correct result in `correct_answer_01_03` variable.\n",
    "\n",
    "After the implementation of the function, there is a test part of the program.\n",
    "\n",
    "A small code change is required for the test to work correctly.\n",
    "* You should create a test program to call `recursive_func()` function with values from 0 to 11.\n",
    "* You should save all function call results in a list (`response_01_03`) sequentially.\n",
    "* You should use only five (5) decimals in each element in the list.\n",
    "In the test section you will compare the test results with the correct values with the `assert` statement, but that is already implemented in the assignment."
   ]
  },
  {
   "cell_type": "code",
   "execution_count": 27,
   "id": "f64e94dd",
   "metadata": {
    "ExecuteTime": {
     "end_time": "2025-08-12T09:36:31.697873Z",
     "start_time": "2025-08-12T09:36:31.666177Z"
    },
    "execution": {
     "iopub.execute_input": "2024-12-10T09:58:32.594708Z",
     "iopub.status.busy": "2024-12-10T09:58:32.594708Z",
     "iopub.status.idle": "2024-12-10T09:58:32.600198Z",
     "shell.execute_reply": "2024-12-10T09:58:32.600198Z"
    }
   },
   "outputs": [
    {
     "name": "stdout",
     "output_type": "stream",
     "text": [
      "Lists differ: [] != [1, 0.5, 0.66667, 0.6, 0.625, 0.61538, 0.6[45 chars]1803]\n",
      "\n",
      "Second list contains 12 additional elements.\n",
      "First extra element 0:\n",
      "1\n",
      "\n",
      "- []\n",
      "+ [1,\n",
      "+  0.5,\n",
      "+  0.66667,\n",
      "+  0.6,\n",
      "+  0.625,\n",
      "+  0.61538,\n",
      "+  0.61905,\n",
      "+  0.61765,\n",
      "+  0.61818,\n",
      "+  0.61798,\n",
      "+  0.61806,\n",
      "+  0.61803]\n"
     ]
    }
   ],
   "source": [
    "import unittest\n",
    "\n",
    "correct_answer_01_03 = [1, 0.5, 0.66667, 0.6, 0.625, 0.61538, 0.61905, 0.61765, 0.61818, 0.61798, 0.61806, 0.61803]\n",
    "\n",
    "\n",
    "def recursive_func(n):\n",
    "    if n == 0:\n",
    "        return 1\n",
    "    else:\n",
    "        result = 1 / (1 + recursive_func(n - 1))\n",
    "        return result\n",
    "\n",
    "\n",
    "# Test\n",
    "response_01_03 = []\n",
    "\n",
    "# TODO: Call recursive_func() with values 0-11 by using only four decimal in results and saving all results in the response_01_03 list.\n",
    "\n",
    "try:\n",
    "    unittest.TestCase().assertListEqual(response_01_03, correct_answer_01_03 )\n",
    "    print(f\"Response {response_01_03} was correct.\")\n",
    "except AssertionError as err_msg:\n",
    "    print(err_msg)"
   ]
  },
  {
   "cell_type": "markdown",
   "id": "60d8ee71",
   "metadata": {},
   "source": [
    "## Assignment 1.4 (1p)\n",
    "\n",
    "Let's create the following _sequence of numbers_: `0, 1, 1, 2, 3, 5, 8, 13, 21, ...`.\n",
    "* In this sequence of numbers, any number is a result from the sum of two previous numbers.\n",
    "* Two first numbers (`0` and `1`) of the sequence should be given beforehand.\n",
    "\n",
    "The sequence of numbers is therefore calculated as follows:\n",
    "* 0 + 1 = 1\n",
    "* 1 + 1 = 2\n",
    "* 1 + 2 = 3\n",
    "* 2 + 3 = 5\n",
    "* 3 + 5 = 8 etc.\n",
    "\n",
    "Create the previous algorithm for `count_sums()` function that will return results in the list.\n",
    "All the code in the assignment should be implemented in `count_sums()` function.\n",
    "\n",
    "You should test `count_sums()` function with the first `14` numbers in the sequence, but note that two first numbers of the sequence are given beforehand in `count_sums()` function.\n",
    "\n",
    "You will compare the test results (`response_01_04` variable) with the correct values with\n",
    "the `assert` statement (`assert response_01_04 == correct_answer_01_04`), that is already given in the assignment."
   ]
  },
  {
   "cell_type": "code",
   "execution_count": 4,
   "id": "8968eea4",
   "metadata": {
    "ExecuteTime": {
     "end_time": "2025-08-12T09:36:31.713957Z",
     "start_time": "2025-08-12T09:36:31.706083Z"
    },
    "execution": {
     "iopub.execute_input": "2024-12-10T09:58:32.604182Z",
     "iopub.status.busy": "2024-12-10T09:58:32.603223Z",
     "iopub.status.idle": "2024-12-10T09:58:32.610495Z",
     "shell.execute_reply": "2024-12-10T09:58:32.609502Z"
    },
    "lines_to_next_cell": 2
   },
   "outputs": [
    {
     "name": "stdout",
     "output_type": "stream",
     "text": [
      "Lists differ: [0, 1] != [0, 1, 1, 2, 3, 5, 8, 13, 21, 34, 55, 89, 144, 233, 377, 610]\n",
      "\n",
      "Second list contains 14 additional elements.\n",
      "First extra element 2:\n",
      "1\n",
      "\n",
      "- [0, 1]\n",
      "+ [0, 1, 1, 2, 3, 5, 8, 13, 21, 34, 55, 89, 144, 233, 377, 610]\n"
     ]
    }
   ],
   "source": [
    "import unittest\n",
    "\n",
    "correct_answer_01_04 = [0, 1, 1, 2, 3, 5, 8, 13, 21, 34, 55, 89, 144, 233, 377, 610]\n",
    "\n",
    "\n",
    "def count_sums(iterations_max):\n",
    "    all_vals = [0, 1]\n",
    "    initial_len = 2\n",
    "    # TODO: Do the implementation of the algorithm.\n",
    "    # TODO: Return values in the all_vals list.\n",
    "\n",
    "    return all_vals\n",
    "\n",
    "\n",
    "response_01_04 = count_sums(14)\n",
    "\n",
    "try:\n",
    "    unittest.TestCase().assertListEqual(response_01_04, correct_answer_01_04)\n",
    "    print(f\"Response {response_01_04} was correct.\")\n",
    "except AssertionError as err_msg:\n",
    "    print(err_msg)"
   ]
  }
 ],
 "metadata": {
  "jupytext": {
   "cell_metadata_filter": "-all",
   "main_language": "python",
   "notebook_metadata_filter": "-all"
  },
  "kernelspec": {
   "display_name": ".venv (3.13.1)",
   "language": "python",
   "name": "python3"
  },
  "language_info": {
   "codemirror_mode": {
    "name": "ipython",
    "version": 3
   },
   "file_extension": ".py",
   "mimetype": "text/x-python",
   "name": "python",
   "nbconvert_exporter": "python",
   "pygments_lexer": "ipython3",
   "version": "3.13.1"
  }
 },
 "nbformat": 4,
 "nbformat_minor": 5
}
