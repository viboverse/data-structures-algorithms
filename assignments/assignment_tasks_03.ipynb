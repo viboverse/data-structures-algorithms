{
 "cells": [
  {
   "cell_type": "markdown",
   "id": "9237c613",
   "metadata": {
    "lines_to_next_cell": 0
   },
   "source": [
    "# Assignment 3\n",
    "\n",
    "These assignments are related to different **array operations** like _comparison_, _searching_ and _sorting_.\n",
    "* Read the related course material before doing the assignments from the [Array operations](https://dsa-material-6bd212.pages.labranet.jamk.fi/materials/03_array_operations/).\n",
    "\n",
    "General notes of assignments:\n",
    "* NOTE! In general, after the implementation of the function, all assignments have a test program for the function.\n",
    "* NOTE! Add your code in the assignments only after the TODO lines.\n"
   ]
  },
  {
   "cell_type": "markdown",
   "id": "45a0dd3a",
   "metadata": {
    "lines_to_next_cell": 2
   },
   "source": [
    "## Assignment 3.1 (1 p)\n",
    "\n",
    "Create an algorithm, that compares the content of two arrays and\n",
    "returns all indexes where elements are different in comparable arrays.\n",
    "\n",
    "You should use the following string format (see also `correct_answer_03_01`):\n",
    "\n",
    "  ``index i: first[i] != second[i]``\n",
    "\n",
    "Put all the differences you find into a list variable `result_03_01` and compare it to the correct answer `correct_answer_03_01`."
   ]
  },
  {
   "cell_type": "code",
   "execution_count": 6,
   "id": "5641f9f9",
   "metadata": {
    "ExecuteTime": {
     "end_time": "2025-08-12T09:36:39.586650Z",
     "start_time": "2025-08-12T09:36:39.553989Z"
    },
    "execution": {
     "iopub.execute_input": "2024-12-10T09:58:50.163717Z",
     "iopub.status.busy": "2024-12-10T09:58:50.163717Z",
     "iopub.status.idle": "2024-12-10T09:58:50.188464Z",
     "shell.execute_reply": "2024-12-10T09:58:50.187578Z"
    },
    "lines_to_next_cell": 0
   },
   "outputs": [
    {
     "name": "stdout",
     "output_type": "stream",
     "text": [
      "List ['index 0: a != e', 'index 3: d != g', 'index 4: e != a', 'index 7: h != f'] was correct.\n"
     ]
    }
   ],
   "source": [
    "import unittest\n",
    "\n",
    "correct_answer_03_01 = ['index 0: a != e', 'index 3: d != g', 'index 4: e != a', 'index 7: h != f']\n",
    "first = ['a', 'b', 'c', 'd', 'e', 'f', 'g', 'h']\n",
    "second = ['e', 'b', 'c', 'g', 'a', 'f', 'g', 'f']\n",
    "\n",
    "\n",
    "def compare(a, b):\n",
    "    differencies = []  # will include all indexes where elements are different.\n",
    "    # TODO: Implement comparison between the content of two arrays in each index.\n",
    "    for i in range(len(a)):\n",
    "        if a[i] != b[i]:\n",
    "            differencies.append(f\"index {i}: {a[i]} != {b[i]}\")\n",
    "    # TODO: Return all indexes where elements are different in comparable arrays using given string format.\n",
    "\n",
    "    return differencies\n",
    "\n",
    "\n",
    "# Test\n",
    "response_03_01 = compare(first, second)\n",
    "\n",
    "try:\n",
    "    unittest.TestCase().assertEqual(response_03_01, correct_answer_03_01)\n",
    "    print(f\"List {response_03_01} was correct.\")\n",
    "except AssertionError as err_msg:\n",
    "    print(err_msg)"
   ]
  },
  {
   "cell_type": "markdown",
   "id": "4cca4b3d",
   "metadata": {
    "lines_to_next_cell": 2
   },
   "source": [
    "## Assignment 3.2 (1 p)\n",
    "\n",
    "Create a function `multiple_search_filters` to filter given list based on the given conditions, which are:\n",
    "\n",
    " * The string contains both vowels and consonants.\n",
    " * The number of vowels is equal to or greater than the number of consonants.\n",
    " * The minimum length is five characters or more and the maximum length is less than ten characters.\n",
    " * Could not include two consecutive vowel in the word.\n",
    "\n",
    "Note! Python `sum()` function should not be used with solutions."
   ]
  },
  {
   "cell_type": "code",
   "execution_count": null,
   "id": "bc0fa2b0",
   "metadata": {
    "ExecuteTime": {
     "end_time": "2025-08-12T09:36:39.618076Z",
     "start_time": "2025-08-12T09:36:39.590036Z"
    },
    "execution": {
     "iopub.execute_input": "2024-12-10T09:58:50.192455Z",
     "iopub.status.busy": "2024-12-10T09:58:50.191457Z",
     "iopub.status.idle": "2024-12-10T09:58:50.199098Z",
     "shell.execute_reply": "2024-12-10T09:58:50.198034Z"
    },
    "lines_to_next_cell": 0
   },
   "outputs": [
    {
     "name": "stdout",
     "output_type": "stream",
     "text": [
      "Response list ['banana', 'avocado', 'omena'] was correct.\n"
     ]
    }
   ],
   "source": [
    "import unittest\n",
    "\n",
    "correct_answer_03_02 = ['banana', 'avocado', 'omena']\n",
    "\n",
    "fruit_list = [\"apple\", \"banana\", \"kiwi\", \"avocado\", \"melon\", \"apricot\", \"strawberry\", \"grape\", \"päärynä\", \"mandariini\",\n",
    "              \"mustikka\", \"omena\", \"luumu\", \"eeeiii\"]\n",
    "\n",
    "\n",
    "def multiple_search_filters(fruits):\n",
    "    results = []\n",
    "    # TODO: Filter list based on the given four conditions.\n",
    "    vowels = 'aeiouyäö'\n",
    "    \n",
    "    for word in fruits:\n",
    "        if len(word) < 5 or len(word) >= 10:\n",
    "            continue\n",
    "\n",
    "        vowel_count = 0\n",
    "        consonant_count = 0\n",
    "\n",
    "        for char in word.lower():\n",
    "            if char in vowels:\n",
    "                vowel_count += 1\n",
    "            else:\n",
    "                consonant_count += 1\n",
    "\n",
    "        if (vowel_count > 0 and consonant_count > 0 and  # Has both\n",
    "            vowel_count >= consonant_count and  # Vowels >= consonants\n",
    "            all(not (word.lower()[i] in vowels and word.lower()[i+1] in vowels) for i in range(len(word)-1))):  # No consecutive vowels\n",
    "            results.append(word)        \n",
    "\n",
    "    return results\n",
    "\n",
    "\n",
    "# Test\n",
    "response_03_02 = multiple_search_filters(fruit_list)\n",
    "\n",
    "try:\n",
    "    unittest.TestCase().assertEqual(response_03_02, correct_answer_03_02)\n",
    "    print(f\"Response list {response_03_02} was correct.\")\n",
    "except AssertionError as err_msg:\n",
    "    print(err_msg)"
   ]
  },
  {
   "cell_type": "markdown",
   "id": "b914a723",
   "metadata": {
    "lines_to_next_cell": 2
   },
   "source": [
    "## Assignment 3.3 (1 p)\n",
    "\n",
    "Create own implementation of bubble sort algorithm.\n",
    "\n",
    "The `letters` list is defined at the beginning of the assignment contains letters. Please don't modify it.\n",
    "\n",
    "Sort `letters` list using `bubble_sort()` function, the algorithm of which is given as ready-made pseudocode in the assignment's comments.\n",
    "* Note! To clarify the Python implementation difference from the pseudocode, it's important not to sort the original list provided as an argument but rather create a new list within the `bubble_sort()` function."
   ]
  },
  {
   "cell_type": "code",
   "execution_count": null,
   "id": "3ff8ddc1",
   "metadata": {
    "ExecuteTime": {
     "end_time": "2025-08-12T09:36:39.667786Z",
     "start_time": "2025-08-12T09:36:39.646446Z"
    },
    "execution": {
     "iopub.execute_input": "2024-12-10T09:58:50.202389Z",
     "iopub.status.busy": "2024-12-10T09:58:50.201353Z",
     "iopub.status.idle": "2024-12-10T09:58:50.209331Z",
     "shell.execute_reply": "2024-12-10T09:58:50.208336Z"
    },
    "lines_to_next_cell": 0
   },
   "outputs": [
    {
     "name": "stdout",
     "output_type": "stream",
     "text": [
      "The answer's sorted List ['a', 'b', 'c', 'd', 'e', 'f', 'g', 'h', 'i', 'j', 'k', 'l'] was correct.\n"
     ]
    }
   ],
   "source": [
    "import unittest\n",
    "\n",
    "correct_answer_03_02 = ['a', 'b', 'c', 'd', 'e', 'f', 'g', 'h', 'i', 'j', 'k', 'l']\n",
    "\n",
    "letters = ['i', 'j', 'b', 'h', 'l', 'a', 'k', 'c', 'g', 'f', 'e', 'd']\n",
    "\n",
    "\n",
    "# procedure bubbleSort(A : list of sortable items)\n",
    "#     n := length(A)\n",
    "#     repeat\n",
    "#         swapped := false\n",
    "#         for i := 1 to n-1 inclusive do\n",
    "#             { if this pair is out of order }\n",
    "#             if A[i-1] > A[i] then\n",
    "#                 { swap them and remember something changed }\n",
    "#                 swap(A[i-1], A[i])\n",
    "#                 swapped := true\n",
    "#             end if\n",
    "#         end for\n",
    "#     until not swapped\n",
    "# end procedure\n",
    "\n",
    "def bubble_sort(a):  # buble sort implementation\n",
    "    new_arr = a.copy()\n",
    "    n = len(new_arr)\n",
    "    # TODO: sort list a and return sorted list with your own implementation of bubble sort.\n",
    "\n",
    "    while True:\n",
    "        swapped = False\n",
    "        for i in range(1, n):\n",
    "            if new_arr[i-1] > new_arr[i]:\n",
    "                new_arr[i-1], new_arr[i] = new_arr[i], new_arr[i-1]\n",
    "                swapped = True\n",
    "        if not swapped:\n",
    "            break\n",
    "\n",
    "    return new_arr\n",
    "\n",
    "\n",
    "# Test\n",
    "response_03_03 = bubble_sort(letters)\n",
    "try:\n",
    "    unittest.TestCase().assertEqual(response_03_03, correct_answer_03_02)\n",
    "    print(f\"The answer's sorted List {response_03_03} was correct.\")\n",
    "except AssertionError as err_msg:\n",
    "    print(err_msg)"
   ]
  },
  {
   "cell_type": "markdown",
   "id": "fc116bfd",
   "metadata": {
    "lines_to_next_cell": 2
   },
   "source": [
    "## Assignment 3.4 (1 p)\n",
    "\n",
    "Create an algorithm that performs the following operations in order:\n",
    "1. Prompt the user for the array size by using `input()` function. Array size should be between 5 and 10.\n",
    "2. Accept user input for values (as `str`) until the array is filled, and populate the array with non-empty elements.\n",
    "3. Sort the array in ascending order using the `bubble_sort()` function developed in **assignment 3.3**."
   ]
  },
  {
   "cell_type": "code",
   "execution_count": null,
   "id": "78a0556e",
   "metadata": {
    "ExecuteTime": {
     "end_time": "2025-08-12T09:36:39.684733Z",
     "start_time": "2025-08-12T09:36:39.671537Z"
    },
    "execution": {
     "iopub.execute_input": "2024-12-10T09:58:50.212324Z",
     "iopub.status.busy": "2024-12-10T09:58:50.212324Z",
     "iopub.status.idle": "2024-12-10T09:58:50.217883Z",
     "shell.execute_reply": "2024-12-10T09:58:50.217883Z"
    }
   },
   "outputs": [
    {
     "name": "stdout",
     "output_type": "stream",
     "text": [
      "The answer's ordered list ['2', '28', '5', '8', '98'] was correct.\n"
     ]
    }
   ],
   "source": [
    "\n",
    "import unittest\n",
    "\n",
    "\n",
    "\n",
    "\n",
    "def ask_array_from_user():\n",
    "    new_arr = []\n",
    "    # TODO: Prompt the user for the array size which should be between 5 and 10.\n",
    "    while True:\n",
    "            size = int(input(\"Enter array size (5-10): \"))\n",
    "            if 5 <= size <= 10:\n",
    "                break\n",
    "    # TODO: Accept user input for values (as `str`) until the array is filled, and populate the array with non-empty elements.\n",
    "    while len(new_arr) < size:\n",
    "        val = input(f\"Enter value {len(new_arr)+1}/{size}: \").strip()\n",
    "        if val:  # Only add non-empty\n",
    "            new_arr.append(val)\n",
    "            \n",
    "    return new_arr\n",
    "\n",
    "\n",
    "# test\n",
    "list_from_user = ask_array_from_user()\n",
    "response_03_04 = list_from_user\n",
    "# TODO: Sort the array in ascending order using the bubble_sort() function developed in assignment 3.3.\n",
    "response_03_04 = bubble_sort(list_from_user) \n",
    "\n",
    "correct_answer_03_04 = sorted(list_from_user)\n",
    "\n",
    "try:\n",
    "    unittest.TestCase().assertNotEqual(response_03_04, [], \"List should not be empty\")\n",
    "    unittest.TestCase().assertListEqual(response_03_04, correct_answer_03_04)\n",
    "    print(f\"The answer's ordered list {response_03_04} was correct.\")\n",
    "except AssertionError as err_msg:\n",
    "    print(err_msg)"
   ]
  }
 ],
 "metadata": {
  "jupytext": {
   "cell_metadata_filter": "-all",
   "main_language": "python",
   "notebook_metadata_filter": "-all"
  },
  "kernelspec": {
   "display_name": ".venv (3.13.1)",
   "language": "python",
   "name": "python3"
  },
  "language_info": {
   "codemirror_mode": {
    "name": "ipython",
    "version": 3
   },
   "file_extension": ".py",
   "mimetype": "text/x-python",
   "name": "python",
   "nbconvert_exporter": "python",
   "pygments_lexer": "ipython3",
   "version": "3.13.1"
  }
 },
 "nbformat": 4,
 "nbformat_minor": 5
}
