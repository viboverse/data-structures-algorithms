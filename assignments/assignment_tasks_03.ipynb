{
 "cells": [
  {
   "cell_type": "markdown",
   "id": "9237c613",
   "metadata": {
    "lines_to_next_cell": 0
   },
   "source": [
    "# Assignment 3\n",
    "\n",
    "These assignments are related to different **array operations** like _comparison_, _searching_ and _sorting_.\n",
    "* Read the related course material before doing the assignments from the [Array operations](https://dsa-material-6bd212.pages.labranet.jamk.fi/materials/03_array_operations/).\n",
    "\n",
    "General notes of assignments:\n",
    "* NOTE! In general, after the implementation of the function, all assignments have a test program for the function.\n",
    "* NOTE! Add your code in the assignments only after the TODO lines.\n"
   ]
  },
  {
   "cell_type": "markdown",
   "id": "45a0dd3a",
   "metadata": {
    "lines_to_next_cell": 2
   },
   "source": [
    "## Assignment 3.1 (1 p)\n",
    "\n",
    "Create an algorithm, that compares the content of two arrays and\n",
    "returns all indexes where elements are different in comparable arrays.\n",
    "\n",
    "You should use the following string format (see also `correct_answer_03_01`):\n",
    "\n",
    "  ``index i: first[i] != second[i]``\n",
    "\n",
    "Put all the differences you find into a list variable `result_03_01` and compare it to the correct answer `correct_answer_03_01`."
   ]
  },
  {
   "cell_type": "code",
   "id": "5641f9f9",
   "metadata": {
    "execution": {
     "iopub.execute_input": "2024-12-10T09:58:50.163717Z",
     "iopub.status.busy": "2024-12-10T09:58:50.163717Z",
     "iopub.status.idle": "2024-12-10T09:58:50.188464Z",
     "shell.execute_reply": "2024-12-10T09:58:50.187578Z"
    },
    "lines_to_next_cell": 0,
    "ExecuteTime": {
     "end_time": "2025-08-12T09:36:39.586650Z",
     "start_time": "2025-08-12T09:36:39.553989Z"
    }
   },
   "source": [
    "import unittest\n",
    "\n",
    "correct_answer_03_01 = ['index 0: a != e', 'index 3: d != g', 'index 4: e != a', 'index 7: h != f']\n",
    "first = ['a', 'b', 'c', 'd', 'e', 'f', 'g', 'h']\n",
    "second = ['e', 'b', 'c', 'g', 'a', 'f', 'g', 'f']\n",
    "\n",
    "\n",
    "def compare(a, b):\n",
    "    differencies = []  # will include all indexes where elements are different.\n",
    "    # TODO: Implement comparison between the content of two arrays in each index.\n",
    "    # TODO: Return all indexes where elements are different in comparable arrays using given string format.\n",
    "\n",
    "    return differencies\n",
    "\n",
    "\n",
    "# Test\n",
    "response_03_01 = compare(first, second)\n",
    "\n",
    "try:\n",
    "    unittest.TestCase().assertEqual(response_03_01, correct_answer_03_01)\n",
    "    print(f\"List {response_03_01} was correct.\")\n",
    "except AssertionError as err_msg:\n",
    "    print(err_msg)"
   ],
   "outputs": [
    {
     "name": "stdout",
     "output_type": "stream",
     "text": [
      "Lists differ: [] != ['index 0: a != e', 'index 3: d != g', 'index 4: e != a', 'index 7: h != f']\n",
      "\n",
      "Second list contains 4 additional elements.\n",
      "First extra element 0:\n",
      "'index 0: a != e'\n",
      "\n",
      "- []\n",
      "+ ['index 0: a != e', 'index 3: d != g', 'index 4: e != a', 'index 7: h != f']\n"
     ]
    }
   ],
   "execution_count": 1
  },
  {
   "cell_type": "markdown",
   "id": "4cca4b3d",
   "metadata": {
    "lines_to_next_cell": 2
   },
   "source": [
    "## Assignment 3.2 (1 p)\n",
    "\n",
    "Create a function `multiple_search_filters` to filter given list based on the given conditions, which are:\n",
    "\n",
    " * The string contains both vowels and consonants.\n",
    " * The number of vowels is equal to or greater than the number of consonants.\n",
    " * The minimum length is five characters or more and the maximum length is less than ten characters.\n",
    " * Could not include two consecutive vowel in the word.\n",
    "\n",
    "Note! Python `sum()` function should not be used with solutions."
   ]
  },
  {
   "cell_type": "code",
   "id": "bc0fa2b0",
   "metadata": {
    "execution": {
     "iopub.execute_input": "2024-12-10T09:58:50.192455Z",
     "iopub.status.busy": "2024-12-10T09:58:50.191457Z",
     "iopub.status.idle": "2024-12-10T09:58:50.199098Z",
     "shell.execute_reply": "2024-12-10T09:58:50.198034Z"
    },
    "lines_to_next_cell": 0,
    "ExecuteTime": {
     "end_time": "2025-08-12T09:36:39.618076Z",
     "start_time": "2025-08-12T09:36:39.590036Z"
    }
   },
   "source": [
    "import unittest\n",
    "\n",
    "correct_answer_03_02 = ['banana', 'avocado', 'omena']\n",
    "\n",
    "fruit_list = [\"apple\", \"banana\", \"kiwi\", \"avocado\", \"melon\", \"apricot\", \"strawberry\", \"grape\", \"päärynä\", \"mandariini\",\n",
    "              \"mustikka\", \"omena\", \"luumu\", \"eeeiii\"]\n",
    "\n",
    "\n",
    "def multiple_search_filters(fruits):\n",
    "    results = []\n",
    "    # TODO: Filter list based on the given four conditions.\n",
    "\n",
    "    return results\n",
    "\n",
    "\n",
    "# Test\n",
    "response_03_02 = multiple_search_filters(fruit_list)\n",
    "\n",
    "try:\n",
    "    unittest.TestCase().assertEqual(response_03_02, correct_answer_03_02)\n",
    "    print(f\"Response list {response_03_02} was correct.\")\n",
    "except AssertionError as err_msg:\n",
    "    print(err_msg)"
   ],
   "outputs": [
    {
     "name": "stdout",
     "output_type": "stream",
     "text": [
      "Lists differ: [] != ['banana', 'avocado', 'omena']\n",
      "\n",
      "Second list contains 3 additional elements.\n",
      "First extra element 0:\n",
      "'banana'\n",
      "\n",
      "- []\n",
      "+ ['banana', 'avocado', 'omena']\n"
     ]
    }
   ],
   "execution_count": 2
  },
  {
   "cell_type": "markdown",
   "id": "b914a723",
   "metadata": {
    "lines_to_next_cell": 2
   },
   "source": [
    "## Assignment 3.3 (1 p)\n",
    "\n",
    "Create own implementation of bubble sort algorithm.\n",
    "\n",
    "The `letters` list is defined at the beginning of the assignment contains letters. Please don't modify it.\n",
    "\n",
    "Sort `letters` list using `bubble_sort()` function, the algorithm of which is given as ready-made pseudocode in the assignment's comments.\n",
    "* Note! To clarify the Python implementation difference from the pseudocode, it's important not to sort the original list provided as an argument but rather create a new list within the `bubble_sort()` function."
   ]
  },
  {
   "cell_type": "code",
   "id": "3ff8ddc1",
   "metadata": {
    "execution": {
     "iopub.execute_input": "2024-12-10T09:58:50.202389Z",
     "iopub.status.busy": "2024-12-10T09:58:50.201353Z",
     "iopub.status.idle": "2024-12-10T09:58:50.209331Z",
     "shell.execute_reply": "2024-12-10T09:58:50.208336Z"
    },
    "lines_to_next_cell": 0,
    "ExecuteTime": {
     "end_time": "2025-08-12T09:36:39.667786Z",
     "start_time": "2025-08-12T09:36:39.646446Z"
    }
   },
   "source": [
    "import unittest\n",
    "\n",
    "correct_answer_03_02 = ['a', 'b', 'c', 'd', 'e', 'f', 'g', 'h', 'i', 'j', 'k', 'l']\n",
    "\n",
    "letters = ['i', 'j', 'b', 'h', 'l', 'a', 'k', 'c', 'g', 'f', 'e', 'd']\n",
    "\n",
    "\n",
    "# procedure bubbleSort(A : list of sortable items)\n",
    "#     n := length(A)\n",
    "#     repeat\n",
    "#         swapped := false\n",
    "#         for i := 1 to n-1 inclusive do\n",
    "#             { if this pair is out of order }\n",
    "#             if A[i-1] > A[i] then\n",
    "#                 { swap them and remember something changed }\n",
    "#                 swap(A[i-1], A[i])\n",
    "#                 swapped := true\n",
    "#             end if\n",
    "#         end for\n",
    "#     until not swapped\n",
    "# end procedure\n",
    "\n",
    "def bubble_sort(a):  # buble sort implementation\n",
    "    new_arr = a.copy()\n",
    "    n = len(new_arr)\n",
    "    # TODO: sort list a and return sorted list with your own implementation of bubble sort.\n",
    "\n",
    "    return new_arr\n",
    "\n",
    "\n",
    "# Test\n",
    "response_03_03 = bubble_sort(letters)\n",
    "try:\n",
    "    unittest.TestCase().assertEqual(response_03_03, correct_answer_03_02)\n",
    "    print(f\"The answer's sorted List {response_03_03} was correct.\")\n",
    "except AssertionError as err_msg:\n",
    "    print(err_msg)"
   ],
   "outputs": [
    {
     "name": "stdout",
     "output_type": "stream",
     "text": [
      "Lists differ: ['i', 'j', 'b', 'h', 'l', 'a', 'k', 'c', 'g', 'f', 'e', 'd'] != ['a', 'b', 'c', 'd', 'e', 'f', 'g', 'h', 'i', 'j', 'k', 'l']\n",
      "\n",
      "First differing element 0:\n",
      "'i'\n",
      "'a'\n",
      "\n",
      "- ['i', 'j', 'b', 'h', 'l', 'a', 'k', 'c', 'g', 'f', 'e', 'd']\n",
      "+ ['a', 'b', 'c', 'd', 'e', 'f', 'g', 'h', 'i', 'j', 'k', 'l']\n"
     ]
    }
   ],
   "execution_count": 3
  },
  {
   "cell_type": "markdown",
   "id": "fc116bfd",
   "metadata": {
    "lines_to_next_cell": 2
   },
   "source": [
    "## Assignment 3.4 (1 p)\n",
    "\n",
    "Create an algorithm that performs the following operations in order:\n",
    "1. Prompt the user for the array size by using `input()` function. Array size should be between 5 and 10.\n",
    "2. Accept user input for values (as `str`) until the array is filled, and populate the array with non-empty elements.\n",
    "3. Sort the array in ascending order using the `bubble_sort()` function developed in **assignment 3.3**."
   ]
  },
  {
   "cell_type": "code",
   "id": "78a0556e",
   "metadata": {
    "execution": {
     "iopub.execute_input": "2024-12-10T09:58:50.212324Z",
     "iopub.status.busy": "2024-12-10T09:58:50.212324Z",
     "iopub.status.idle": "2024-12-10T09:58:50.217883Z",
     "shell.execute_reply": "2024-12-10T09:58:50.217883Z"
    },
    "ExecuteTime": {
     "end_time": "2025-08-12T09:36:39.684733Z",
     "start_time": "2025-08-12T09:36:39.671537Z"
    }
   },
   "source": [
    "\n",
    "import unittest\n",
    "\n",
    "\n",
    "\n",
    "\n",
    "def ask_array_from_user():\n",
    "    new_arr = []\n",
    "    # TODO: Prompt the user for the array size which should be between 5 and 10.\n",
    "    # TODO: Accept user input for values (as `str`) until the array is filled, and populate the array with non-empty elements.\n",
    "\n",
    "    return new_arr\n",
    "\n",
    "\n",
    "# test\n",
    "list_from_user = ask_array_from_user()\n",
    "response_03_04 = list_from_user\n",
    "# TODO: Sort the array in ascending order using the bubble_sort() function developed in assignment 3.3.\n",
    "\n",
    "correct_answer_03_04 = sorted(list_from_user)\n",
    "\n",
    "try:\n",
    "    unittest.TestCase().assertNotEqual(response_03_04, [], \"List should not be empty\")\n",
    "    unittest.TestCase().assertListEqual(response_03_04, correct_answer_03_04)\n",
    "    print(f\"The answer's ordered list {response_03_04} was correct.\")\n",
    "except AssertionError as err_msg:\n",
    "    print(err_msg)"
   ],
   "outputs": [
    {
     "name": "stdout",
     "output_type": "stream",
     "text": [
      "[] == [] : List should not be empty\n"
     ]
    }
   ],
   "execution_count": 4
  }
 ],
 "metadata": {
  "jupytext": {
   "cell_metadata_filter": "-all",
   "main_language": "python",
   "notebook_metadata_filter": "-all"
  },
  "language_info": {
   "codemirror_mode": {
    "name": "ipython",
    "version": 3
   },
   "file_extension": ".py",
   "mimetype": "text/x-python",
   "name": "python",
   "nbconvert_exporter": "python",
   "pygments_lexer": "ipython3",
   "version": "3.12.4"
  },
  "kernelspec": {
   "name": "python3",
   "language": "python",
   "display_name": "Python 3 (ipykernel)"
  }
 },
 "nbformat": 4,
 "nbformat_minor": 5
}
