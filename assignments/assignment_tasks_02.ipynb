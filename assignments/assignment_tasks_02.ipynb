{
 "cells": [
  {
   "cell_type": "markdown",
   "id": "3d7a1818",
   "metadata": {
    "lines_to_next_cell": 2
   },
   "source": [
    "# Assignment 2\n",
    "\n",
    "These assignments are related to **arrays**.\n",
    "* Note that the data structure **Array** is implemented in Python as a built-in type named `list`.\n",
    "* Read the related course material before doing the assignments from the [Arrays](https://dsa-material-6bd212.pages.labranet.jamk.fi/materials/02_arrays/).\n",
    "\n",
    "General notes of assignments:\n",
    "* NOTE! In general, after the implementation of the function, all assignments have a test program for the function.\n",
    "* NOTE! Add your code in the assignments only after the TODO lines."
   ]
  },
  {
   "cell_type": "markdown",
   "id": "d0550508",
   "metadata": {},
   "source": [
    "## Assignment 2.1 (1 p)\n",
    "\n",
    "In this assignment, the implementation of one algorithm is provided in `my_func()` function.\n",
    "You should not modify that function in this assignment.\n",
    "\n",
    "Based on the following implementation, please answer the following questions.\n",
    "* Explain how the algorithm works and what does it return.\n",
    "* Calculate the sum of not `None` values in the list returned by `my_func()`."
   ]
  },
  {
   "cell_type": "code",
   "execution_count": 37,
   "id": "a1efb375",
   "metadata": {
    "ExecuteTime": {
     "end_time": "2025-08-12T09:36:36.367099Z",
     "start_time": "2025-08-12T09:36:36.338875Z"
    },
    "execution": {
     "iopub.execute_input": "2024-12-10T09:58:41.315443Z",
     "iopub.status.busy": "2024-12-10T09:58:41.314446Z",
     "iopub.status.idle": "2024-12-10T09:58:41.347687Z",
     "shell.execute_reply": "2024-12-10T09:58:41.346762Z"
    }
   },
   "outputs": [
    {
     "name": "stdout",
     "output_type": "stream",
     "text": [
      "Numeric Sum of [73, 69, 79, None, 75, None] = 296 was correct.\n"
     ]
    }
   ],
   "source": [
    "import unittest\n",
    "\n",
    "message = [79, 73, 75, 69, 65]\n",
    "some_list = [1, 3, 0, 5, 2, 10]\n",
    "\n",
    "\n",
    "def my_func(message, arg_list):\n",
    "    result = [None] * len(arg_list)\n",
    "    for k in range(len(arg_list)):\n",
    "        try:\n",
    "            tmp = arg_list[k]\n",
    "            result[k] = message[tmp]\n",
    "        except IndexError as exp:\n",
    "            result[k] = None\n",
    "\n",
    "    return result\n",
    "\n",
    "\n",
    "# Test\n",
    "\n",
    "correct_answer_02_01 = 296\n",
    "res_arr_02_01 = my_func(message, some_list)\n",
    "\n",
    "response_02_01 = 0\n",
    "# TODO: Write and describe what algorithm in `my_func()` does and what does it return.\n",
    "# TODO: Calculate the sum of not None values in the list to response_02_01 variable.\n",
    "\n",
    "for item in res_arr_02_01:\n",
    "    if item is not None:\n",
    "        response_02_01 += item\n",
    "\n",
    "\n",
    "\n",
    "try:\n",
    "    unittest.TestCase().assertEqual(correct_answer_02_01, response_02_01)\n",
    "    print(f\"Numeric Sum of {res_arr_02_01} = {response_02_01} was correct.\")\n",
    "except AssertionError as err_msg:\n",
    "    print(err_msg)"
   ]
  },
  {
   "cell_type": "markdown",
   "id": "650a4cdb",
   "metadata": {
    "lines_to_next_cell": 0
   },
   "source": [
    "### Your answer to assignment 2.1:\n",
    "\n",
    "* <font color='red'>Explain how the algorithm works and what does it return.</font>\n",
    "* <font color='red'>Calculate the sum of not `None` values in the list returned by `my_func()`.</font>\n",
    "* <font color='red'>TODO: WRITE YOUR ANSWER HERE USING RED FONT</font>\n",
    "* <font color='red'>This fucntion creates a result array that has the same length as arg_list. For each value in the arg_list, it looks up the value as an index in the message. In the try/execp block in handles invalid indices, if the index is valid, it stores message[index] otherwise none!</font>\n",
    "* <font color='red'>Numeric Sum of [73, 69, 79, None, 75, None] = 296 was correct</font>"
   ]
  },
  {
   "cell_type": "markdown",
   "id": "aa29cb5c",
   "metadata": {},
   "source": [
    "## Assignment 2.2 (1 p)\n",
    "\n",
    "This assignment requires the implementation of three functions, all of which use a different loop structure.\n",
    "\n",
    "a) Create a function called `sum_arrays()` that iterates through arrays `dataset1` and `dataset2` and then sums all array elements with the same index.\n",
    "* Implement summation of array elements using a `for` loop.\n",
    "\n",
    "b) Create a function called `multiply_arrays()` that iterates through arrays `dataset1` and `dataset2` and then multiply all array elements with the same index.\n",
    "* Implement multiplication of array elements using a `while` loop.\n",
    "\n",
    "c) Create a function called `subtract_arrays()` that iterates through arrays `dataset1` and `dataset2` and then subtract all array elements with the same index.\n",
    "* Implement subtraction of array elements using a `for` loop and using `enumerate` class.\n",
    "\n",
    "Note! The test program has already been implemented, so please don't edit it."
   ]
  },
  {
   "cell_type": "code",
   "execution_count": 38,
   "id": "e84d86e6",
   "metadata": {
    "ExecuteTime": {
     "end_time": "2025-08-12T09:36:36.382498Z",
     "start_time": "2025-08-12T09:36:36.372788Z"
    },
    "execution": {
     "iopub.execute_input": "2024-12-10T09:58:41.351704Z",
     "iopub.status.busy": "2024-12-10T09:58:41.351704Z",
     "iopub.status.idle": "2024-12-10T09:58:41.360248Z",
     "shell.execute_reply": "2024-12-10T09:58:41.359089Z"
    },
    "lines_to_next_cell": 0
   },
   "outputs": [
    {
     "name": "stdout",
     "output_type": "stream",
     "text": [
      "Lists differ: [] != [74, 16, 54, 77, 22, 22, 4, 19, 13, 36]\n",
      "\n",
      "Second list contains 10 additional elements.\n",
      "First extra element 0:\n",
      "74\n",
      "\n",
      "- []\n",
      "+ [74, 16, 54, 77, 22, 22, 4, 19, 13, 36]\n"
     ]
    }
   ],
   "source": [
    "import unittest\n",
    "\n",
    "correct_answer_02_02_a = [74, 16, 54, 77, 22, 22, 4, 19, 13, 36]\n",
    "correct_answer_02_02_b = [744, 39, 200, 976, 121, 40, 3, 90, 30, 224]\n",
    "correct_answer_02_02_c = [-50, -10, -46, 45, 0, -18, -2, -1, 7, -20]\n",
    "\n",
    "\n",
    "def sum_arrays(a, b):\n",
    "    sum_arr = []\n",
    "    # TODO: Implementation with for loop\n",
    "\n",
    "    return sum_arr\n",
    "\n",
    "\n",
    "def multiply_arrays(a, b):\n",
    "    mult_arr = len(a) * [0]\n",
    "    # TODO: Implementation with while loop\n",
    "\n",
    "    return mult_arr\n",
    "\n",
    "\n",
    "def subtract_arrays(a, b):\n",
    "    sub_arr = len(a) * [0]\n",
    "    # TODO: Implementation with for loop using enumerate class\n",
    "\n",
    "    return sub_arr\n",
    "\n",
    "\n",
    "# Test\n",
    "dataset1 = [12, 3, 4, 61, 11, 2, 1, 9, 10, 8]\n",
    "dataset2 = [62, 13, 50, 16, 11, 20, 3, 10, 3, 28]\n",
    "\n",
    "response_02_02_sum = sum_arrays(dataset1, dataset2)\n",
    "response_02_02_mul = multiply_arrays(dataset1, dataset2)\n",
    "response_02_02_sub = subtract_arrays(dataset1, dataset2)\n",
    "\n",
    "try:\n",
    "    unittest.TestCase().assertListEqual(response_02_02_sum, correct_answer_02_02_a)\n",
    "    unittest.TestCase().assertListEqual(response_02_02_mul, correct_answer_02_02_b)\n",
    "    unittest.TestCase().assertListEqual(response_02_02_sub, correct_answer_02_02_c)\n",
    "    print(f\"All responses {response_02_02_sum}, {response_02_02_mul} and {response_02_02_sub} were correct.\")\n",
    "\n",
    "except AssertionError as err_msg:\n",
    "    print(err_msg)"
   ]
  },
  {
   "cell_type": "markdown",
   "id": "c8ba37ef",
   "metadata": {},
   "source": [
    "\n",
    "## Assignment 2.3 (1 p)\n",
    "\n",
    "Implement a function `share_numbers()`, that splits `dataset` array into arrays `even` and `odd`,\n",
    "whose content is the following.\n",
    "* Array `even` will include only even numbers.\n",
    "* Array `odd` will include only odd numbers.\n",
    "\n",
    "Sort the numbers in this function from largest to smallest in both arrays before adding to a returned list `[even, odd]`."
   ]
  },
  {
   "cell_type": "code",
   "execution_count": 39,
   "id": "ac56d284",
   "metadata": {
    "ExecuteTime": {
     "end_time": "2025-08-12T09:36:36.400294Z",
     "start_time": "2025-08-12T09:36:36.393796Z"
    },
    "execution": {
     "iopub.execute_input": "2024-12-10T09:58:41.363483Z",
     "iopub.status.busy": "2024-12-10T09:58:41.362485Z",
     "iopub.status.idle": "2024-12-10T09:58:41.369340Z",
     "shell.execute_reply": "2024-12-10T09:58:41.369340Z"
    },
    "lines_to_next_cell": 0
   },
   "outputs": [
    {
     "name": "stdout",
     "output_type": "stream",
     "text": [
      "[[18, 12, 10, 6, 4, 2], [21, 11, 9, 3, 1]]\n",
      "Response [[18, 12, 10, 6, 4, 2], [21, 11, 9, 3, 1]] was correct.\n"
     ]
    }
   ],
   "source": [
    "import unittest\n",
    "\n",
    "correct_answer_02_03 = [[18, 12, 10, 6, 4, 2], [21, 11, 9, 3, 1]]\n",
    "\n",
    "dataset = [12, 3, 4, 6, 11, 2, None, 1, 9, 10, 18, 21, None]\n",
    "\n",
    "\n",
    "def share_numbers(a):\n",
    "    even = []\n",
    "    odd = []\n",
    "\n",
    "    # TODO: Split all numbers in to even and odd arrays.\n",
    "    for item in a:\n",
    "        if item is not None: \n",
    "            if item % 2 == 0:\n",
    "                even.append(item)\n",
    "            else: \n",
    "                odd.append(item)\n",
    "\n",
    "    # TODO: Sort the numbers from largest to smallest in both lists before adding lists.\n",
    "    even.sort(reverse=True)\n",
    "    odd.sort(reverse=True)\n",
    "\n",
    "\n",
    "    # TODO: Finally return the list with the format: return [even, odd].\n",
    "    return [even, odd]\n",
    "\n",
    "\n",
    "# Test\n",
    "response_02_03 = share_numbers(dataset)\n",
    "print(response_02_03)\n",
    "\n",
    "try:\n",
    "    unittest.TestCase().assertListEqual(response_02_03, correct_answer_02_03)\n",
    "    print(f\"Response {response_02_03} was correct.\")\n",
    "\n",
    "except AssertionError as err_msg:\n",
    "    print(err_msg)"
   ]
  },
  {
   "cell_type": "markdown",
   "id": "b45b6b8b",
   "metadata": {},
   "source": [
    "\n",
    "## Assignment 2.4 (1 p)\n",
    "\n",
    "Implement a function `calc_avg` that calculated both average and number of numeric items for all numbers in the list.\n",
    "\n",
    "Calculate average of numeric elements in the list.\n",
    "* Just ignore all values in the list that are not numbers (`None`, `str`) but count averages for all numbers (`int` or `float`) in the list.\n",
    "* Return both average and total number of numeric items in the list."
   ]
  },
  {
   "cell_type": "code",
   "execution_count": 40,
   "id": "faa1c422",
   "metadata": {
    "ExecuteTime": {
     "end_time": "2025-08-12T09:36:36.419206Z",
     "start_time": "2025-08-12T09:36:36.409703Z"
    },
    "execution": {
     "iopub.execute_input": "2024-12-10T09:58:41.373325Z",
     "iopub.status.busy": "2024-12-10T09:58:41.372327Z",
     "iopub.status.idle": "2024-12-10T09:58:41.378965Z",
     "shell.execute_reply": "2024-12-10T09:58:41.378121Z"
    }
   },
   "outputs": [
    {
     "name": "stdout",
     "output_type": "stream",
     "text": [
      "Average 16.2 for 15 numeric items in list was correct.\n"
     ]
    }
   ],
   "source": [
    "import unittest\n",
    "\n",
    "correct_answer_02_04 = 16.2\n",
    "\n",
    "nlist = [1, 2, 3, 4, 5, 6, 7, 8, 9, 20, 30, None, \"aa\", \"bee\", 11, \"test\", 51, 74.8, 11.2, None]\n",
    "\n",
    "\n",
    "def calc_avg(numb_list):\n",
    "    my_avg = 0\n",
    "    counter = 0\n",
    "    total_sum = 0 \n",
    "\n",
    "    # TODO: Calculate the average value for the numeric values in the list.\n",
    "    for item in numb_list:\n",
    "        if isinstance(item, (int, float)):  # Check if item is numeric\n",
    "            total_sum += item\n",
    "            counter += 1\n",
    "    \n",
    "    if counter > 0:  # Avoid division by zero\n",
    "        my_avg = total_sum / counter\n",
    "\n",
    "    # TODO: Return both average and number of numeric items in the list.\n",
    "\n",
    "    return my_avg, counter\n",
    "\n",
    "\n",
    "# Test\n",
    "response_02_04, numb_of_items = calc_avg(nlist)\n",
    "try:\n",
    "    unittest.TestCase().assertEqual(response_02_04, correct_answer_02_04)\n",
    "    print(f\"Average {response_02_04} for {numb_of_items} numeric items in list was correct.\")\n",
    "except AssertionError as err_msg:\n",
    "    print(err_msg)"
   ]
  }
 ],
 "metadata": {
  "jupytext": {
   "cell_metadata_filter": "-all",
   "main_language": "python",
   "notebook_metadata_filter": "-all"
  },
  "kernelspec": {
   "display_name": ".venv (3.13.1)",
   "language": "python",
   "name": "python3"
  },
  "language_info": {
   "codemirror_mode": {
    "name": "ipython",
    "version": 3
   },
   "file_extension": ".py",
   "mimetype": "text/x-python",
   "name": "python",
   "nbconvert_exporter": "python",
   "pygments_lexer": "ipython3",
   "version": "3.13.1"
  }
 },
 "nbformat": 4,
 "nbformat_minor": 5
}
