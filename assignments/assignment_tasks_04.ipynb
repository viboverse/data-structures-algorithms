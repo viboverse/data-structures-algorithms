{
 "cells": [
  {
   "cell_type": "markdown",
   "id": "58ea1914",
   "metadata": {
    "lines_to_next_cell": 0
   },
   "source": [
    "# Assignment 4\n",
    "\n",
    "These assignments are related to different **Abstract Data Types (ADTs)** like _Stack_ and _Queue_.\n",
    "* Read the related course material before doing the assignments from the [Abstract Data Type (ADT)](https://dsa-material-6bd212.pages.labranet.jamk.fi/materials/04_abstract_datatypes/).\n",
    "\n",
    "General notes of assignments:\n",
    "* NOTE! In general, after the implementation of the function, all assignments have a test program for the function.\n",
    "* NOTE! Add your code in the assignments only after the TODO lines.\n"
   ]
  },
  {
   "cell_type": "markdown",
   "id": "f6827ba6",
   "metadata": {},
   "source": [
    "## Assignment 4.1 (1 p)\n",
    "\n",
    "In Python, the `queue` module provides the `Queue` class, which is a _First-In-First-Out_ (FIFO), i.e. **queue**, data structure.\n",
    "Use this class in this assignment.\n",
    "\n",
    "Create a `create_even_odd` function that places, without changing the original order,\n",
    "the original array into two separate queues that are:\n",
    "* First `Queue` contains even integers in `even_que` variable.\n",
    "* Second `Queue` contains odd integers in `odd_que` variable.\n",
    "\n",
    "At the end of the `create_even_add()` function, add both queues (`even_que`, `odd_que`) to list and return this list.\n"
   ]
  },
  {
   "cell_type": "code",
   "id": "8379906c",
   "metadata": {
    "execution": {
     "iopub.execute_input": "2024-12-10T09:58:58.817101Z",
     "iopub.status.busy": "2024-12-10T09:58:58.817101Z",
     "iopub.status.idle": "2024-12-10T09:58:58.837824Z",
     "shell.execute_reply": "2024-12-10T09:58:58.837544Z"
    },
    "lines_to_next_cell": 0,
    "ExecuteTime": {
     "end_time": "2025-08-12T09:36:49.932226Z",
     "start_time": "2025-08-12T09:36:49.877224Z"
    }
   },
   "source": [
    "import queue\n",
    "import unittest\n",
    "\n",
    "correct_answer_04_01 = [[18, 2, 4, 18, 8, 14, 44], [15, 3, 11, 5, 7, 21, 55]]\n",
    "\n",
    "numbers = [18, 2, 4, 15, 18, 3, 11, 8, 14, 5, 7, 21, 55, 44]\n",
    "\n",
    "\n",
    "def create_even_odd(a):\n",
    "    even_que = queue.Queue()\n",
    "    odd_que = queue.Queue()\n",
    "    # TODO: create two queues and return them in a list\n",
    "\n",
    "    return [even_que, odd_que]\n",
    "\n",
    "\n",
    "# Test\n",
    "res_queues = create_even_odd(numbers)\n",
    "response_04_01 = [list(res_queues[0].queue), list(res_queues[1].queue)]\n",
    "\n",
    "try:\n",
    "    unittest.TestCase().assertTrue(all(isinstance(item, queue.Queue) for item in res_queues), \"The type of the all element must be Queue.\")\n",
    "    unittest.TestCase().assertListEqual(response_04_01, correct_answer_04_01)\n",
    "    print(f\"Response {response_04_01} was correct.\")\n",
    "\n",
    "except AssertionError as err_msg:\n",
    "    print(err_msg)"
   ],
   "outputs": [
    {
     "name": "stdout",
     "output_type": "stream",
     "text": [
      "Lists differ: [[], []] != [[18, 2, 4, 18, 8, 14, 44], [15, 3, 11, 5, 7, 21, 55]]\n",
      "\n",
      "First differing element 0:\n",
      "[]\n",
      "[18, 2, 4, 18, 8, 14, 44]\n",
      "\n",
      "- [[], []]\n",
      "+ [[18, 2, 4, 18, 8, 14, 44], [15, 3, 11, 5, 7, 21, 55]]\n"
     ]
    }
   ],
   "execution_count": 1
  },
  {
   "cell_type": "markdown",
   "id": "3b82bcba",
   "metadata": {},
   "source": [
    "## Assignment 4.2 (1 p)\n",
    "\n",
    "Create an `ask_array_from_user()` function, which asks user to input *integers*. Note that only integers are allowed and you must enter at least three integers..\n",
    "* Integers will then be stored into the queue one by one.\n",
    "* When the user inputs integer `0`, the content of the queue will be printed for the user and the program will be ended. Note that integer `0` should not be stored into the queue.\n"
   ]
  },
  {
   "cell_type": "code",
   "id": "6f423c79",
   "metadata": {
    "execution": {
     "iopub.execute_input": "2024-12-10T09:58:58.841511Z",
     "iopub.status.busy": "2024-12-10T09:58:58.841511Z",
     "iopub.status.idle": "2024-12-10T09:58:58.848919Z",
     "shell.execute_reply": "2024-12-10T09:58:58.847924Z"
    },
    "lines_to_next_cell": 0,
    "ExecuteTime": {
     "end_time": "2025-08-12T09:36:49.983473Z",
     "start_time": "2025-08-12T09:36:49.962316Z"
    }
   },
   "source": [
    "import queue\n",
    "import unittest\n",
    "\n",
    "\n",
    "def ask_array_from_user():\n",
    "    input_queue = queue.Queue()\n",
    "    i = 0\n",
    "    new_val = -1\n",
    "    print(\"Enter at least three integers. Enter a number of zero (0) to stop.\")\n",
    "\n",
    "    # TODO: Ask input with syntax: \"Give {i}. element> \" in a loop.\n",
    "    # TODO: Enter input values into the queue. Only integers are added to the queue.\n",
    "    # TODO: Enter at least three integers.\n",
    "    # TODO: Number zero terminates the program (do not store zero (0) in queue).\n",
    "\n",
    "\n",
    "    # Fixing error with test.\n",
    "    if input_queue.empty():\n",
    "        input_queue.put(1)\n",
    "        return input_queue\n",
    "\n",
    "    return input_queue\n",
    "\n",
    "\n",
    "# Test\n",
    "response_04_02_q = ask_array_from_user()\n",
    "response_04_02 = list(response_04_02_q.queue)\n",
    "\n",
    "try:\n",
    "    unittest.TestCase().assertTrue(isinstance(response_04_02_q, queue.Queue), \"The type of the response must be Queue.\")\n",
    "    unittest.TestCase().assertIsNotNone(response_04_02[0], \"The first element should not be None.\")\n",
    "    unittest.TestCase().assertIsInstance(response_04_02[0], int, \"The type of the first element must be int\")\n",
    "    unittest.TestCase().assertTrue(all(isinstance(item, int) for item in response_04_02),\n",
    "                                   \"The type of the all element must be int.\")\n",
    "    unittest.TestCase().assertGreaterEqual(len(response_04_02), 3, \"The length of the list should be 3 or greater.\")\n",
    "    print(f\"Response {response_04_02} was correct.\")\n",
    "\n",
    "except AssertionError as err_msg:\n",
    "    print(err_msg)"
   ],
   "outputs": [
    {
     "name": "stdout",
     "output_type": "stream",
     "text": [
      "Enter at least three integers. Enter a number of zero (0) to stop.\n",
      "1 not greater than or equal to 3 : The length of the list should be 3 or greater.\n"
     ]
    }
   ],
   "execution_count": 2
  },
  {
   "cell_type": "markdown",
   "id": "5064160a",
   "metadata": {},
   "source": [
    "## Assignment 4.3 (1 p)\n",
    "\n",
    "Create a function, that will take the `letters` list and store the content of this list into the stack.\n",
    "The content and the size of the stack should be printed after each insertion.\n",
    "\n",
    "Stack in Python can be implemented using the following ways:\n",
    "* `list`\n",
    "* `collections.deque`\n",
    "* `queue.LifoQueue`\n",
    "\n",
    "In this assignment, we use `collections.deque` class, which is a double-ended queue, to implement a stack.\n",
    "\n",
    "Do the following task in the functions `create_stack` and `pop_stack`:\n",
    "* in `create_stack()` function you should create _stack_ from the input `list`. It must return `deque` object.\n",
    "* In the `pop_stack()` function, you should pop all elements of the stack and store the values in the list in the order they were popped. It must return `list`.\n"
   ]
  },
  {
   "cell_type": "code",
   "id": "becb1246",
   "metadata": {
    "execution": {
     "iopub.execute_input": "2024-12-10T09:58:58.852904Z",
     "iopub.status.busy": "2024-12-10T09:58:58.851907Z",
     "iopub.status.idle": "2024-12-10T09:58:58.860232Z",
     "shell.execute_reply": "2024-12-10T09:58:58.859894Z"
    },
    "lines_to_next_cell": 0,
    "ExecuteTime": {
     "end_time": "2025-08-12T09:36:50.003640Z",
     "start_time": "2025-08-12T09:36:49.988573Z"
    }
   },
   "source": [
    "import unittest\n",
    "\n",
    "letters = ['a', 'b', 'c', 'd', 'e', '7']\n",
    "\n",
    "from collections import deque\n",
    "\n",
    "\n",
    "# Implementation here\n",
    "def create_stack(a):\n",
    "    # TODO: Create stack from the input list a.\n",
    "    st = deque()\n",
    "\n",
    "    return st\n",
    "\n",
    "\n",
    "def pop_stack(a):\n",
    "    # TODO: Pop all elements from the stack and save these values in the list in the same order\n",
    "    new_arr = []\n",
    "\n",
    "    return new_arr\n",
    "\n",
    "\n",
    "# Test\n",
    "correct_answer_04_03 = list(reversed(letters))\n",
    "response_04_03_stack = create_stack(letters)\n",
    "\n",
    "try:\n",
    "    unittest.TestCase().assertIsInstance(response_04_03_stack, deque)\n",
    "    unittest.TestCase().assertListEqual(list(response_04_03_stack), letters)\n",
    "    print(f\"Stack {response_04_03_stack} was correct.\")\n",
    "except AssertionError as err_msg:\n",
    "    print(err_msg)\n",
    "\n",
    "response_04_03 = pop_stack(response_04_03_stack)\n",
    "try:\n",
    "    unittest.TestCase().assertListEqual(response_04_03, correct_answer_04_03)\n",
    "    print(f\"Response {response_04_03} was correct.\")\n",
    "\n",
    "except AssertionError as err_msg:\n",
    "    print(err_msg)\n",
    "\n",
    "# assert res[len(res) - 1] == 'e', f\"Top {res[len(res) - 1]} was wrong\"\n",
    "# print(f\"Stack {res} was OK!\")\n",
    "\n",
    "\n",
    "# unittest.TestCase().assertListEqual(new_arr, sorted(letters, reverse=True))\n",
    "# print(f\"Popped stack {new_arr} was OK!\")"
   ],
   "outputs": [
    {
     "name": "stdout",
     "output_type": "stream",
     "text": [
      "Lists differ: [] != ['a', 'b', 'c', 'd', 'e', '7']\n",
      "\n",
      "Second list contains 6 additional elements.\n",
      "First extra element 0:\n",
      "'a'\n",
      "\n",
      "- []\n",
      "+ ['a', 'b', 'c', 'd', 'e', '7']\n",
      "Lists differ: [] != ['7', 'e', 'd', 'c', 'b', 'a']\n",
      "\n",
      "Second list contains 6 additional elements.\n",
      "First extra element 0:\n",
      "'7'\n",
      "\n",
      "- []\n",
      "+ ['7', 'e', 'd', 'c', 'b', 'a']\n"
     ]
    }
   ],
   "execution_count": 3
  },
  {
   "cell_type": "markdown",
   "id": "d8dda3bd",
   "metadata": {},
   "source": [
    "## Assignment 4.4 (1 p)\n",
    "\n",
    "In Python, the `queue` module also provides the `LifoQueue` class data structure,\n",
    "which you should use in this assignment.\n",
    "\n",
    "Implement a simple *Console user interface (UI)* with the simple _text-based menu_ including all options listed below.\n",
    "* User can choose any option with number (`1-4`).\n",
    "* When a user selects any of the options `1-3`,\n",
    "  the corresponding operation will be performed and then a UI menu should be printed again.\n",
    "\n",
    "The **user interface menu** contains the following options:\n",
    "\n",
    "1. Insert a new element into the stack.\n",
    "2. Remove an element from the stack.\n",
    "3. Show stack content and size.\n",
    "4. End program.\n",
    "\n",
    "You should implement operations in `ask_stack_from_user()` function,\n",
    "where you ask input choices (`1-4`) from the user and use the next value from the `letters` for selected operation.\n",
    "\n",
    "User interface menu operations can be:\n",
    "```\n",
    "\t1. Insert new element\n",
    "\t2. Remove element\n",
    "\t3. Show stack content\n",
    "\t4. End program\n",
    "Select 1 - 4.>\n",
    "```\n",
    "\n",
    "You must complete the manual test in **exactly** the following order in order to obtain the required result in the assignment:\n",
    "```\n",
    "* Insert a new element\n",
    "* Insert a new element\n",
    "* Remove element\n",
    "* Insert a new element\n",
    "* Insert a new element\n",
    "* Remove element\n",
    "* Insert a new element\n",
    "* Insert a new element\n",
    "* Remove element\n",
    "* Show stack content\n",
    "* End program\n",
    "```\n",
    "\n",
    "The example execution of the program is described in detail below:\n",
    "```\n",
    "\t1. Insert new element\n",
    "\t2. Remove element\n",
    "\t3. Show stack content\n",
    "\t4. End program\n",
    "Added 'a' item.\n",
    "Added 'b' item.\n",
    "Removed 'b' item.\n",
    "Added 'd' item.\n",
    "Added 'e' item.\n",
    "Removed 'e' item.\n",
    "Added 'g' item.\n",
    "Added 'h' item.\n",
    "Removed 'h' item.\n",
    "Stack Size: 3, with elements ['a', 'd', 'g']\n",
    "Thank You!\n",
    "Menu is now returned\n",
    "```\n",
    "\n",
    "The example execution of the program when running this program in the console of an operating system:\n",
    "```\n",
    "\t1. Insert new element\n",
    "\t2. Remove element\n",
    "\t3. Show stack content\n",
    "\t4. End program\n",
    "\n",
    "Select 1 - 4.> 1\n",
    "Added 'a' item.\n",
    "Select 1 - 4.> 1\n",
    "Added 'b' item.\n",
    "Select 1 - 4.> 2\n",
    "Removed 'b' item.\n",
    "Select 1 - 4.> 1\n",
    "Added 'd' item.\n",
    "Select 1 - 4.> 1\n",
    "Added 'e' item.\n",
    "Select 1 - 4.> 2\n",
    "Removed 'e' item.\n",
    "Select 1 - 4.> 1\n",
    "Added 'g' item.\n",
    "Select 1 - 4.> 1\n",
    "Added 'h' item.\n",
    "Select 1 - 4.> 2\n",
    "Removed 'h' item.\n",
    "Select 1 - 4.> 3\n",
    "Stack Size: 3, with elements ['a', 'd', 'g']\n",
    "Select 1 - 4.> 4\n",
    "```"
   ]
  },
  {
   "cell_type": "code",
   "id": "b4653d94",
   "metadata": {
    "execution": {
     "iopub.execute_input": "2024-12-10T09:58:58.863790Z",
     "iopub.status.busy": "2024-12-10T09:58:58.862793Z",
     "iopub.status.idle": "2024-12-10T09:58:58.870325Z",
     "shell.execute_reply": "2024-12-10T09:58:58.869582Z"
    },
    "ExecuteTime": {
     "end_time": "2025-08-12T09:36:50.033314Z",
     "start_time": "2025-08-12T09:36:50.014499Z"
    }
   },
   "source": [
    "\n",
    "import unittest\n",
    "from queue import LifoQueue\n",
    "\n",
    "letters = ['a', 'b', 'c', 'd', 'e', 'f', 'g', 'h']\n",
    "menu = ['1. Insert new element', '2. Remove element', '3. Show stack content', '4. End program']\n",
    "\n",
    "\n",
    "def ask_stack_from_user():\n",
    "    stack = LifoQueue(maxsize=8)\n",
    "\n",
    "    return stack\n",
    "\n",
    "\n",
    "response_04_04 = ask_stack_from_user()\n",
    "correct_answer_04_04 = [letters[0], letters[3], letters[6]]\n",
    "\n",
    "try:\n",
    "    unittest.TestCase().assertIsInstance(response_04_04, LifoQueue)\n",
    "    unittest.TestCase().assertEqual(response_04_04.qsize(), 3)\n",
    "    unittest.TestCase().assertListEqual(response_04_04.queue, correct_answer_04_04)\n",
    "    print(f\"Response queue {list(response_04_04.queue)} was correct.\")\n",
    "\n",
    "except AssertionError as err_msg:\n",
    "    print(err_msg)"
   ],
   "outputs": [
    {
     "name": "stdout",
     "output_type": "stream",
     "text": [
      "0 != 3\n"
     ]
    }
   ],
   "execution_count": 4
  }
 ],
 "metadata": {
  "jupytext": {
   "cell_metadata_filter": "-all",
   "main_language": "python",
   "notebook_metadata_filter": "-all"
  },
  "language_info": {
   "codemirror_mode": {
    "name": "ipython",
    "version": 3
   },
   "file_extension": ".py",
   "mimetype": "text/x-python",
   "name": "python",
   "nbconvert_exporter": "python",
   "pygments_lexer": "ipython3",
   "version": "3.12.4"
  },
  "kernelspec": {
   "name": "python3",
   "language": "python",
   "display_name": "Python 3 (ipykernel)"
  }
 },
 "nbformat": 4,
 "nbformat_minor": 5
}
