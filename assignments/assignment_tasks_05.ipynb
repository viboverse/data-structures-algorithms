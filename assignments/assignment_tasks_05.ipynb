{
 "cells": [
  {
   "cell_type": "markdown",
   "id": "c4d698fd",
   "metadata": {},
   "source": [
    "# Assignment 5\n",
    "\n",
    "These assignments are related to **Associative Array** which is called a dictionary (`dict` type) in Python.\n",
    "* Read the related course material before doing the assignments from the [Associative Array](https://dsa-material-6bd212.pages.labranet.jamk.fi/materials/05_associative_array/).\n",
    "\n",
    "General notes of assignments:\n",
    "* NOTE! In general, after the implementation of the function, all assignments have a test program for the function.\n",
    "* NOTE! Add your code in the assignments only after the TODO lines."
   ]
  },
  {
   "cell_type": "markdown",
   "id": "dba5a277",
   "metadata": {
    "lines_to_next_cell": 0
   },
   "source": [
    "## Assignment 5.1 (1 p)\n",
    "Write a function `filter_every_nth_product()` that takes a file and number n as parameters and returns every nth line from the file.\n",
    "\n",
    "* Read `filename` CSV file.\n",
    "* Store the product information in a list data structure, where each list element contains dictionaries for each product.\n",
    "* In the list, the names of the keys in the dictionary are the same as the name of the header row of the CSV file.\n",
    "\n",
    "Convert the data types as follows:\n",
    "\n",
    "* The values corresponding to the `'Price'` key are of type `float`.\n",
    "* The values corresponding to the `'Quantity'` key are of type `int`.\n",
    "* The values corresponding to the `'ProductID'` key are of type `int`.\n",
    "\n",
    "Then filter every tenth row in the result based on the `ProductID` value starting from line one (1, 11, ...,  41).."
   ]
  },
  {
   "cell_type": "code",
   "id": "683c3e98",
   "metadata": {
    "execution": {
     "iopub.execute_input": "2024-12-10T09:59:07.590587Z",
     "iopub.status.busy": "2024-12-10T09:59:07.590587Z",
     "iopub.status.idle": "2024-12-10T09:59:07.615904Z",
     "shell.execute_reply": "2024-12-10T09:59:07.614911Z"
    },
    "lines_to_next_cell": 0,
    "ExecuteTime": {
     "end_time": "2025-08-12T09:36:58.680630Z",
     "start_time": "2025-08-12T09:36:58.654826Z"
    }
   },
   "source": [
    "\n",
    "import csv\n",
    "\n",
    "import unittest\n",
    "\n",
    "correct_answer_05_01 = [\n",
    "    {'ProductID': 1, 'ProductName': 'Smartphone', 'Category': 'Electronics', 'Price': 299.99, 'Quantity': 50},\n",
    "    {'ProductID': 11, 'ProductName': 'Bed', 'Category': 'Furniture', 'Price': 500.0, 'Quantity': 8},\n",
    "    {'ProductID': 21, 'ProductName': 'Backpack', 'Category': 'Accessories', 'Price': 39.99, 'Quantity': 100},\n",
    "    {'ProductID': 31, 'ProductName': 'Book', 'Category': 'Stationery', 'Price': 14.99, 'Quantity': 100},\n",
    "    {'ProductID': 41, 'ProductName': 'Air Conditioner', 'Category': 'Electronics', 'Price': 499.99, 'Quantity': 8}]\n",
    "\n",
    "\n",
    "def read_products(filename):\n",
    "    products = []\n",
    "    # TODO: Read CSV File\n",
    "\n",
    "    return products\n",
    "\n",
    "\n",
    "def filter_every_nth_product(fname, n):\n",
    "    result_arr = []\n",
    "    # TODO: Filter every tenth row in the result based on the `ProductID` value starting from line one (1, 11, 21, ...).\n",
    "\n",
    "    return result_arr\n",
    "\n",
    "\n",
    "# Test\n",
    "filename = 'files/products.csv'\n",
    "response_05_01 = filter_every_nth_product(filename, 10)\n",
    "print(response_05_01)\n",
    "\n",
    "try:\n",
    "    unittest.TestCase().assertListEqual(response_05_01, correct_answer_05_01)\n",
    "    print(f\"Response {response_05_01} was correct.\")\n",
    "except AssertionError as err_msg:\n",
    "    print(err_msg)"
   ],
   "outputs": [
    {
     "name": "stdout",
     "output_type": "stream",
     "text": [
      "[]\n",
      "Lists differ: [] != [{'ProductID': 1, 'ProductName': 'Smartpho[476 chars]: 8}]\n",
      "\n",
      "Second list contains 5 additional elements.\n",
      "First extra element 0:\n",
      "{'ProductID': 1, 'ProductName': 'Smartphone', 'Category': 'Electronics', 'Price': 299.99, 'Quantity': 50}\n",
      "\n",
      "- []\n",
      "+ [{'Category': 'Electronics',\n",
      "+   'Price': 299.99,\n",
      "+   'ProductID': 1,\n",
      "+   'ProductName': 'Smartphone',\n",
      "+   'Quantity': 50},\n",
      "+  {'Category': 'Furniture',\n",
      "+   'Price': 500.0,\n",
      "+   'ProductID': 11,\n",
      "+   'ProductName': 'Bed',\n",
      "+   'Quantity': 8},\n",
      "+  {'Category': 'Accessories',\n",
      "+   'Price': 39.99,\n",
      "+   'ProductID': 21,\n",
      "+   'ProductName': 'Backpack',\n",
      "+   'Quantity': 100},\n",
      "+  {'Category': 'Stationery',\n",
      "+   'Price': 14.99,\n",
      "+   'ProductID': 31,\n",
      "+   'ProductName': 'Book',\n",
      "+   'Quantity': 100},\n",
      "+  {'Category': 'Electronics',\n",
      "+   'Price': 499.99,\n",
      "+   'ProductID': 41,\n",
      "+   'ProductName': 'Air Conditioner',\n",
      "+   'Quantity': 8}]\n"
     ]
    }
   ],
   "execution_count": 1
  },
  {
   "cell_type": "markdown",
   "id": "67f86ea5",
   "metadata": {},
   "source": [
    "## Assignment 5.2 (1 p)\n",
    "\n",
    "Write a function `filter_products_by_category()` that takes a file and a product category name as parameters and returns all products in that category.\n",
    "\n",
    "* Let's read the `filename` CSV file and create a list structure as in task 5-1.\n",
    "* In addition, a new dictionary value is calculated for each row, the key of which contains the inventory price `'InventoryValue'`,\n",
    "  which is calculated for the every product with the formula `Price * Quantity`.\n",
    "\n",
    "Filter the products according to the given category and sort them based on the inventory price (`'InventoryValue'`).\n",
    "Please note that the test program only compares the first five products in the category."
   ]
  },
  {
   "cell_type": "code",
   "id": "fc9463b7",
   "metadata": {
    "execution": {
     "iopub.execute_input": "2024-12-10T09:59:07.619340Z",
     "iopub.status.busy": "2024-12-10T09:59:07.618311Z",
     "iopub.status.idle": "2024-12-10T09:59:07.628101Z",
     "shell.execute_reply": "2024-12-10T09:59:07.627105Z"
    },
    "lines_to_next_cell": 0,
    "ExecuteTime": {
     "end_time": "2025-08-12T09:36:58.702728Z",
     "start_time": "2025-08-12T09:36:58.689707Z"
    }
   },
   "source": [
    "\n",
    "import csv\n",
    "\n",
    "import unittest\n",
    "\n",
    "correct_answer_05_02 = [\n",
    "    {'ProductID': 2, 'ProductName': 'Laptop', 'Category': 'Electronics', 'Price': 899.99, 'Quantity': 30,\n",
    "     'InventoryValue': 26999.7},\n",
    "    {'ProductID': 7, 'ProductName': 'Tablet', 'Category': 'Electronics', 'Price': 399.99, 'Quantity': 40,\n",
    "     'InventoryValue': 15999.6},\n",
    "    {'ProductID': 1, 'ProductName': 'Smartphone', 'Category': 'Electronics', 'Price': 299.99, 'Quantity': 50,\n",
    "     'InventoryValue': 14999.5},\n",
    "    {'ProductID': 6, 'ProductName': 'Monitor', 'Category': 'Electronics', 'Price': 199.99, 'Quantity': 60,\n",
    "     'InventoryValue': 11999.4},\n",
    "    {'ProductID': 40, 'ProductName': 'Refrigerator', 'Category': 'Electronics', 'Price': 899.99, 'Quantity': 10,\n",
    "     'InventoryValue': 8999.9}]\n",
    "\n",
    "\n",
    "def read_products(fname):\n",
    "    products = []\n",
    "    # TODO: read the `filename' CSV file and create a list structure as in assignment 5-1.\n",
    "\n",
    "    return products\n",
    "\n",
    "\n",
    "def filter_products_by_category(fname, category_filter):\n",
    "    category_products = []\n",
    "    products = read_products(fname)\n",
    "    # TODO: Filter the products by the given product group and sorts them based on the total inventory price.\n",
    "    # TODO: The inventory price 'InventoryValue' is calculated for every product using the formula Price*Quantity.\n",
    "\n",
    "    return category_products\n",
    "\n",
    "\n",
    "# Test\n",
    "filename = 'files/products.csv'\n",
    "response_05_02 = filter_products_by_category(filename, 'Electronics')\n",
    "# print(response_05_02)\n",
    "# Test program only compares the first five products in the category.\n",
    "response_05_02 = response_05_02[:5] or None\n",
    "\n",
    "try:\n",
    "    unittest.TestCase().assertListEqual(response_05_02, correct_answer_05_02)\n",
    "    print(f\"Response {response_05_02} was correct.\")\n",
    "except AssertionError as err_msg:\n",
    "    print(err_msg)"
   ],
   "outputs": [
    {
     "name": "stdout",
     "output_type": "stream",
     "text": [
      "First sequence is not a list: None\n"
     ]
    }
   ],
   "execution_count": 2
  },
  {
   "cell_type": "markdown",
   "id": "f2c543d1",
   "metadata": {},
   "source": [
    "## Assignment 5.3 (1 p)\n",
    "\n",
    "Write a function `sort_categories_by_inventory_value()` that calculates the total inventory prices of the products in the product category\n",
    "and sort the prices in descending order according to the total inventory price. `'Category'` is the key to the dictionary.\n",
    "\n",
    "* Let's read the `filename` CSV file and create a list structure as in _assignment 5-2_.\n",
    "* In other words, `'InventoryValue'` is also included, which contains the total inventory price of the product.\n",
    "\n",
    "Create a result like `correct_answer_05_03` from the calculated prices in all product categories."
   ]
  },
  {
   "cell_type": "code",
   "id": "ffbdfe7a",
   "metadata": {
    "execution": {
     "iopub.execute_input": "2024-12-10T09:59:07.630784Z",
     "iopub.status.busy": "2024-12-10T09:59:07.630784Z",
     "iopub.status.idle": "2024-12-10T09:59:07.638834Z",
     "shell.execute_reply": "2024-12-10T09:59:07.638027Z"
    },
    "lines_to_next_cell": 0,
    "ExecuteTime": {
     "end_time": "2025-08-12T09:36:58.720084Z",
     "start_time": "2025-08-12T09:36:58.713024Z"
    }
   },
   "source": [
    "\n",
    "import csv\n",
    "\n",
    "import unittest\n",
    "\n",
    "correct_answer_05_03 = {'Electronics': 111244.1, 'Clothing': 22395.9, 'Sports': 22097.7, 'Furniture': 20575.0,\n",
    "                        'Accessories': 19196.3, 'Home': 12765.9, 'Beauty': 10674.2, 'Stationery': 2981.2}\n",
    "\n",
    "\n",
    "def read_products(fname):\n",
    "    products = []\n",
    "\n",
    "    return products\n",
    "\n",
    "\n",
    "def sort_categories_by_inventory_value(fname):\n",
    "    categories = {}\n",
    "    products = read_products(fname)\n",
    "    # TODO: calculate the total inventory prices of the products in all product categories. Category is the key to the dictionary.\n",
    "    # TODO: Sort the dictionary by total inventory price in descending order.\n",
    "\n",
    "    return categories\n",
    "\n",
    "\n",
    "# Test\n",
    "filename = 'files/products.csv'\n",
    "response_05_03 = sort_categories_by_inventory_value(filename)\n",
    "\n",
    "try:\n",
    "    unittest.TestCase().assertDictEqual(response_05_03, correct_answer_05_03)\n",
    "    print(f\"Response {response_05_03} was correct.\")\n",
    "except AssertionError as err_msg:\n",
    "    print(err_msg)"
   ],
   "outputs": [
    {
     "name": "stdout",
     "output_type": "stream",
     "text": [
      "{} != {'Electronics': 111244.1, 'Clothing': 2239[122 chars]81.2}\n",
      "- {}\n",
      "+ {'Accessories': 19196.3,\n",
      "+  'Beauty': 10674.2,\n",
      "+  'Clothing': 22395.9,\n",
      "+  'Electronics': 111244.1,\n",
      "+  'Furniture': 20575.0,\n",
      "+  'Home': 12765.9,\n",
      "+  'Sports': 22097.7,\n",
      "+  'Stationery': 2981.2}\n"
     ]
    }
   ],
   "execution_count": 3
  },
  {
   "cell_type": "markdown",
   "id": "e8836fe6",
   "metadata": {},
   "source": [
    "## Assignment 5.4 (1 p)\n",
    "\n",
    "Compare sorting algorithms by taking their execution times.\n",
    "\n",
    "Use the `random` module in Python to generate a list of 10 000 random numbers by using the `random.randint()` function.\n",
    "Compare how long it takes to execute the algorithm with Python's standard `sort()` function or with your own `bubble_sort()` function.\n",
    "Use the `timeit` module to measure the execution time of each sorting method.\n",
    "\n",
    "Do the following task in the test program.\n",
    "1. Generate a list of 10,000 random numbers\n",
    "2. Take the time it takes to execute the Python standard function `sorted()`\n",
    "3. Take the time it takes to execute the own implementation of `bubble_sort()` function."
   ]
  },
  {
   "cell_type": "code",
   "id": "594f3bca",
   "metadata": {
    "execution": {
     "iopub.execute_input": "2024-12-10T09:59:07.642830Z",
     "iopub.status.busy": "2024-12-10T09:59:07.642830Z",
     "iopub.status.idle": "2024-12-10T09:59:07.649636Z",
     "shell.execute_reply": "2024-12-10T09:59:07.648773Z"
    },
    "lines_to_next_cell": 2,
    "ExecuteTime": {
     "end_time": "2025-08-12T09:36:58.755243Z",
     "start_time": "2025-08-12T09:36:58.735623Z"
    }
   },
   "source": [
    "import random\n",
    "import timeit\n",
    "import unittest\n",
    "\n",
    "def bubble_sort(a):  # buble sort implementation\n",
    "    # TODO: sort list a and return sorted list with this own implementation of bubble sort.\n",
    "    sorted = a.copy()\n",
    "    n = len(sorted)\n",
    "    iterated_rounds = 0\n",
    "\n",
    "    return sorted\n",
    "\n",
    "\n",
    "# Test\n",
    "resp_05_04_time_sorted = 1.1  # Time the execution of sorted() function\n",
    "resp_05_04_time_bubble_sort = 3.4  # Time the execution of bubble_sort() function\n",
    "\n",
    "# TODO: Generate a list of 10,000 random numbers.\n",
    "# TODO: Time the execution of Python's standard sorted() function.\n",
    "# TODO: Time the execution of bubble_sort() function.\n",
    "\n",
    "print(f\"sorted(): {resp_05_04_time_sorted:.6f} seconds.\")\n",
    "print(f\"bubble_sort(): {resp_05_04_time_bubble_sort:.6f} seconds.\")\n",
    "print((resp_05_04_time_sorted / resp_05_04_time_bubble_sort))\n",
    "print(f\"sorted() vs. bubble_sort(): {(resp_05_04_time_sorted / resp_05_04_time_bubble_sort) * 100:.4f} %.\")\n",
    "\n",
    "try:\n",
    "    unittest.TestCase().assertLess(resp_05_04_time_sorted / resp_05_04_time_bubble_sort, 0.1, \"Time difference should be less than 0.1.\")\n",
    "    unittest.TestCase().assertGreater(resp_05_04_time_sorted / resp_05_04_time_bubble_sort, 0.00001, \"Time difference should be more than 0.00001.\")\n",
    "    print(f\"bubble sort was {int(resp_05_04_time_bubble_sort / resp_05_04_time_sorted)} times slower than sorted().\")\n",
    "    print(f\"Response was accepted.\")\n",
    "except AssertionError as err_msg:\n",
    "    print(err_msg)"
   ],
   "outputs": [
    {
     "name": "stdout",
     "output_type": "stream",
     "text": [
      "sorted(): 1.100000 seconds.\n",
      "bubble_sort(): 3.400000 seconds.\n",
      "0.3235294117647059\n",
      "sorted() vs. bubble_sort(): 32.3529 %.\n",
      "0.3235294117647059 not less than 0.1 : Time difference should be less than 0.1.\n"
     ]
    }
   ],
   "execution_count": 4
  }
 ],
 "metadata": {
  "jupytext": {
   "cell_metadata_filter": "-all",
   "main_language": "python",
   "notebook_metadata_filter": "-all"
  },
  "language_info": {
   "codemirror_mode": {
    "name": "ipython",
    "version": 3
   },
   "file_extension": ".py",
   "mimetype": "text/x-python",
   "name": "python",
   "nbconvert_exporter": "python",
   "pygments_lexer": "ipython3",
   "version": "3.12.4"
  },
  "kernelspec": {
   "name": "python3",
   "language": "python",
   "display_name": "Python 3 (ipykernel)"
  }
 },
 "nbformat": 4,
 "nbformat_minor": 5
}
